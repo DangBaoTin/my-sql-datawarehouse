{
 "cells": [
  {
   "cell_type": "code",
   "execution_count": 1,
   "metadata": {},
   "outputs": [],
   "source": [
    "import os\n",
    "from dotenv import load_dotenv\n",
    "\n",
    "from supabase import create_client\n",
    "from postgrest import APIError"
   ]
  },
  {
   "cell_type": "code",
   "execution_count": 2,
   "metadata": {},
   "outputs": [],
   "source": [
    "load_dotenv()\n",
    "url = os.environ.get('SUPABASE_URL')\n",
    "key = os.environ.get('SUPABASE_KEY')\n",
    "\n",
    "supabase_client = create_client(url, key)"
   ]
  },
  {
   "cell_type": "code",
   "execution_count": 8,
   "metadata": {},
   "outputs": [
    {
     "ename": "AttributeError",
     "evalue": "'SyncPostgrestClient' object has no attribute 'execute_sql'",
     "output_type": "error",
     "traceback": [
      "\u001b[0;31m---------------------------------------------------------------------------\u001b[0m",
      "\u001b[0;31mAttributeError\u001b[0m                            Traceback (most recent call last)",
      "Cell \u001b[0;32mIn[8], line 7\u001b[0m\n\u001b[1;32m      4\u001b[0m     commands \u001b[38;5;241m=\u001b[39m file\u001b[38;5;241m.\u001b[39mread()\n\u001b[1;32m      6\u001b[0m \u001b[38;5;28;01mtry\u001b[39;00m:\n\u001b[0;32m----> 7\u001b[0m     result \u001b[38;5;241m=\u001b[39m \u001b[43msupabase_client\u001b[49m\u001b[38;5;241;43m.\u001b[39;49m\u001b[43mpostgrest\u001b[49m\u001b[38;5;241;43m.\u001b[39;49m\u001b[43mexecute_sql\u001b[49m(commands)\n\u001b[1;32m      8\u001b[0m     \u001b[38;5;28mprint\u001b[39m(result)\n\u001b[1;32m      9\u001b[0m \u001b[38;5;28;01mexcept\u001b[39;00m APIError \u001b[38;5;28;01mas\u001b[39;00m e:\n",
      "\u001b[0;31mAttributeError\u001b[0m: 'SyncPostgrestClient' object has no attribute 'execute_sql'"
     ]
    }
   ],
   "source": [
    "from postgrest import APIError\n",
    "\n",
    "with open(\"init_database.sql\", \"r\") as file:\n",
    "    commands = file.read()\n",
    "\n",
    "try:\n",
    "    result = supabase_client.postgrest.execute_sql(commands)\n",
    "    print(result)\n",
    "except APIError as e:\n",
    "    print(\"Error executing SQL:\", e)"
   ]
  },
  {
   "cell_type": "code",
   "execution_count": 10,
   "metadata": {},
   "outputs": [
    {
     "ename": "ImportError",
     "evalue": "dlopen(/Users/dangbaotin/sql-datawarehouse-project/venv/lib/python3.9/site-packages/psycopg2/_psycopg.cpython-39-darwin.so, 0x0002): Library not loaded: @rpath/libpq.5.dylib\n  Referenced from: <93BBAF59-1356-3126-B4D0-02683AB99AF9> /Users/dangbaotin/sql-datawarehouse-project/venv/lib/python3.9/site-packages/psycopg2/_psycopg.cpython-39-darwin.so\n  Reason: tried: '/System/Volumes/Preboot/Cryptexes/OS@rpath/libpq.5.dylib' (no such file), '/usr/lib/libpq.5.dylib' (no such file, not in dyld cache)",
     "output_type": "error",
     "traceback": [
      "\u001b[0;31m---------------------------------------------------------------------------\u001b[0m",
      "\u001b[0;31mImportError\u001b[0m                               Traceback (most recent call last)",
      "Cell \u001b[0;32mIn[10], line 1\u001b[0m\n\u001b[0;32m----> 1\u001b[0m \u001b[38;5;28;01mimport\u001b[39;00m\u001b[38;5;250m \u001b[39m\u001b[38;5;21;01mpsycopg2\u001b[39;00m\n",
      "File \u001b[0;32m~/sql-datawarehouse-project/venv/lib/python3.9/site-packages/psycopg2/__init__.py:51\u001b[0m\n\u001b[1;32m      1\u001b[0m \u001b[38;5;124;03m\"\"\"A Python driver for PostgreSQL\u001b[39;00m\n\u001b[1;32m      2\u001b[0m \n\u001b[1;32m      3\u001b[0m \u001b[38;5;124;03mpsycopg is a PostgreSQL_ database adapter for the Python_ programming\u001b[39;00m\n\u001b[0;32m   (...)\u001b[0m\n\u001b[1;32m     17\u001b[0m \u001b[38;5;124;03m    TimeFromTicks, Timestamp, TimestampFromTicks\u001b[39;00m\n\u001b[1;32m     18\u001b[0m \u001b[38;5;124;03m\"\"\"\u001b[39;00m\n\u001b[1;32m     19\u001b[0m \u001b[38;5;66;03m# psycopg/__init__.py - initialization of the psycopg module\u001b[39;00m\n\u001b[1;32m     20\u001b[0m \u001b[38;5;66;03m#\u001b[39;00m\n\u001b[1;32m     21\u001b[0m \u001b[38;5;66;03m# Copyright (C) 2003-2019 Federico Di Gregorio  <fog@debian.org>\u001b[39;00m\n\u001b[0;32m   (...)\u001b[0m\n\u001b[1;32m     48\u001b[0m \n\u001b[1;32m     49\u001b[0m \u001b[38;5;66;03m# Import the DBAPI-2.0 stuff into top-level module.\u001b[39;00m\n\u001b[0;32m---> 51\u001b[0m \u001b[38;5;28;01mfrom\u001b[39;00m\u001b[38;5;250m \u001b[39m\u001b[38;5;21;01mpsycopg2\u001b[39;00m\u001b[38;5;21;01m.\u001b[39;00m\u001b[38;5;21;01m_psycopg\u001b[39;00m\u001b[38;5;250m \u001b[39m\u001b[38;5;28;01mimport\u001b[39;00m (                     \u001b[38;5;66;03m# noqa\u001b[39;00m\n\u001b[1;32m     52\u001b[0m     BINARY, NUMBER, STRING, DATETIME, ROWID,\n\u001b[1;32m     53\u001b[0m \n\u001b[1;32m     54\u001b[0m     Binary, Date, Time, Timestamp,\n\u001b[1;32m     55\u001b[0m     DateFromTicks, TimeFromTicks, TimestampFromTicks,\n\u001b[1;32m     56\u001b[0m \n\u001b[1;32m     57\u001b[0m     Error, \u001b[38;5;167;01mWarning\u001b[39;00m, DataError, DatabaseError, ProgrammingError, IntegrityError,\n\u001b[1;32m     58\u001b[0m     InterfaceError, InternalError, NotSupportedError, OperationalError,\n\u001b[1;32m     59\u001b[0m \n\u001b[1;32m     60\u001b[0m     _connect, apilevel, threadsafety, paramstyle,\n\u001b[1;32m     61\u001b[0m     __version__, __libpq_version__,\n\u001b[1;32m     62\u001b[0m )\n\u001b[1;32m     65\u001b[0m \u001b[38;5;66;03m# Register default adapters.\u001b[39;00m\n\u001b[1;32m     67\u001b[0m \u001b[38;5;28;01mfrom\u001b[39;00m\u001b[38;5;250m \u001b[39m\u001b[38;5;21;01mpsycopg2\u001b[39;00m\u001b[38;5;250m \u001b[39m\u001b[38;5;28;01mimport\u001b[39;00m extensions \u001b[38;5;28;01mas\u001b[39;00m _ext\n",
      "\u001b[0;31mImportError\u001b[0m: dlopen(/Users/dangbaotin/sql-datawarehouse-project/venv/lib/python3.9/site-packages/psycopg2/_psycopg.cpython-39-darwin.so, 0x0002): Library not loaded: @rpath/libpq.5.dylib\n  Referenced from: <93BBAF59-1356-3126-B4D0-02683AB99AF9> /Users/dangbaotin/sql-datawarehouse-project/venv/lib/python3.9/site-packages/psycopg2/_psycopg.cpython-39-darwin.so\n  Reason: tried: '/System/Volumes/Preboot/Cryptexes/OS@rpath/libpq.5.dylib' (no such file), '/usr/lib/libpq.5.dylib' (no such file, not in dyld cache)"
     ]
    }
   ],
   "source": [
    "import psycopg2\n"
   ]
  },
  {
   "cell_type": "code",
   "execution_count": null,
   "metadata": {},
   "outputs": [],
   "source": [
    "import psycopg2\n",
    "\n",
    "conn = psycopg2.connect(\n",
    "    dbname=\"my-datawarehouse\",\n",
    "    user=\"supabase_admin\",\n",
    "    password=\"gO4LtP3ULuXJVvdz\",\n",
    "    host=\"your_supabase_host\",\n",
    "    port=\"5432\"\n",
    ")\n",
    "cur = conn.cursor()\n",
    "\n",
    "with open(\"init_database.sql\", \"r\") as file:\n",
    "    commands = file.read()\n",
    "\n",
    "try:\n",
    "    cur.execute(commands)\n",
    "    conn.commit()\n",
    "    print(\"SQL executed successfully.\")\n",
    "except Exception as e:\n",
    "    print(\"Error executing SQL:\", e)\n",
    "finally:\n",
    "    cur.close()\n",
    "    conn.close()\n"
   ]
  },
  {
   "cell_type": "code",
   "execution_count": null,
   "metadata": {},
   "outputs": [],
   "source": [
    "import asyncpg\n",
    "import asyncio\n",
    "\n",
    "conn = await asyncpg.connect(\n",
    "    user=\"supabase_admin\",\n",
    "    password=\"gO4LtP3ULuXJVvdz\",\n",
    "    database=\"my-datawarehouse\",\n",
    "    host=\"your_supabase_host\"\n",
    ")\n",
    "\n",
    "with open(\"init_database.sql\", \"r\") as file:\n",
    "    commands = file.read()\n",
    "\n",
    "try:\n",
    "    await conn.execute(commands)\n",
    "    print(\"SQL executed successfully.\")\n",
    "except Exception as e:\n",
    "    print(\"Error executing SQL:\", e)\n",
    "finally:\n",
    "    await conn.close()\n"
   ]
  },
  {
   "cell_type": "code",
   "execution_count": 3,
   "metadata": {},
   "outputs": [
    {
     "name": "stdout",
     "output_type": "stream",
     "text": [
      "Error executing SQL: 'SyncClient' object has no attribute 'sql'\n"
     ]
    }
   ],
   "source": [
    "# Define SQL commands (schema simulation)\n",
    "commands = \"\"\"\n",
    "USE my-datawarehouse;\n",
    "GO\n",
    "\n",
    "-- Create Schemas\n",
    "CREATE SCHEMA bronze;\n",
    "GO\n",
    "\n",
    "CREATE SCHEMA silver;\n",
    "GO\n",
    "\n",
    "CREATE SCHEMA gold;\n",
    "GO\n",
    "\"\"\"\n",
    "\n",
    "# Execute SQL in Supabase\n",
    "try:\n",
    "    result = supabase_client.sql(commands).execute()\n",
    "    print(\"Tables created successfully:\", result)\n",
    "except Exception as e:\n",
    "    print(\"Error executing SQL:\", e)"
   ]
  },
  {
   "cell_type": "code",
   "execution_count": null,
   "metadata": {},
   "outputs": [],
   "source": []
  }
 ],
 "metadata": {
  "kernelspec": {
   "display_name": "venv",
   "language": "python",
   "name": "python3"
  },
  "language_info": {
   "codemirror_mode": {
    "name": "ipython",
    "version": 3
   },
   "file_extension": ".py",
   "mimetype": "text/x-python",
   "name": "python",
   "nbconvert_exporter": "python",
   "pygments_lexer": "ipython3",
   "version": "3.9.8"
  }
 },
 "nbformat": 4,
 "nbformat_minor": 2
}
